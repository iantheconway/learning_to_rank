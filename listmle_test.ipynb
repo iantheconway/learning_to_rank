{
 "cells": [
  {
   "attachments": {},
   "cell_type": "markdown",
   "metadata": {},
   "source": [
    "# List MLE Test\n",
    "\n",
    "This notebook examines the loss function listmle introduced in 1390156.1390306 http://icml2008.cs.helsinki.fi/papers/167.pdf\n",
    "and attempts to find a normalization factor to deal with an undesired property"
   ]
  },
  {
   "cell_type": "code",
   "execution_count": 1,
   "metadata": {},
   "outputs": [],
   "source": [
    "import numpy as np\n",
    "import math"
   ]
  },
  {
   "cell_type": "code",
   "execution_count": 145,
   "metadata": {},
   "outputs": [],
   "source": [
    "def listmle(x):\n",
    "    '''args:\n",
    "        x: a list of scores for feature vectors,\n",
    "        ordered by their ground truth rank\n",
    "    returns:\n",
    "        listMLE loss\n",
    "    '''\n",
    "    x_exp = np.exp(x)\n",
    "    x_exp = np.flip(x_exp, axis=0)\n",
    "    exp_cum_sum = np.cumsum(x_exp)\n",
    "    exp_cum_sum = np.flip(exp_cum_sum, axis=0)\n",
    "    return np.sum(np.log(exp_cum_sum) - x)\n",
    "\n",
    "def normalized_listmle(x):\n",
    "    '''args:\n",
    "        x: a list of scores for feature vectors,\n",
    "        ordered by their ground truth rank\n",
    "    returns:\n",
    "        normalized listMLE\n",
    "    '''\n",
    "    x = x -np.min(x)\n",
    "    if np.max(x) != 0:\n",
    "        x = x / np.max(x)\n",
    "    sum_x = sum(x)\n",
    "    if not sum_x:\n",
    "        sum_x = 1\n",
    "    # x = [val / float(sum_x) for val in x]\n",
    "    # x = [sigmoid(n) for n in x]\n",
    "    x_exp = np.exp(x)\n",
    "    x_exp = np.flip(x_exp, axis=0)\n",
    "    exp_cum_sum = np.cumsum(x_exp)\n",
    "    exp_cum_sum = np.flip(exp_cum_sum, axis=0) \n",
    "    return np.sum(np.log(exp_cum_sum)  - x) / np.log(math.factorial(len(x)))\n",
    "\n",
    "def sigmoid(x):\n",
    "  return 1 / (1 + math.exp(-x))"
   ]
  },
  {
   "cell_type": "markdown",
   "metadata": {},
   "source": [
    "## Sensitivity to Score Range vs Sensitivy to correct ranking\n",
    "\n",
    "ListMLE rewards the difference between item 1 and item N heavily, where as normalized ListMLE is less sensitive"
   ]
  },
  {
   "cell_type": "code",
   "execution_count": 146,
   "metadata": {},
   "outputs": [
    {
     "name": "stdout",
     "output_type": "stream",
     "text": [
      "0.00018160178023052254\n",
      "0.7658302279538801\n"
     ]
    }
   ],
   "source": [
    "print(listmle([50, 40, 30, 20, 10]))\n",
    "print(normalized_listmle([50, 40, 30, 20, 10]))"
   ]
  },
  {
   "cell_type": "code",
   "execution_count": 147,
   "metadata": {},
   "outputs": [
    {
     "name": "stdout",
     "output_type": "stream",
     "text": [
      "1.6129717464613917\n",
      "0.7658302279538801\n"
     ]
    }
   ],
   "source": [
    "print(listmle([5, 4, 3, 2, 1]))\n",
    "print(normalized_listmle([5, 4, 3, 2, 1]))"
   ]
  },
  {
   "cell_type": "code",
   "execution_count": 148,
   "metadata": {},
   "outputs": [
    {
     "name": "stdout",
     "output_type": "stream",
     "text": [
      "0.3752129240202766\n",
      "0.8348829894795526\n"
     ]
    }
   ],
   "source": [
    "print(listmle([100, 15, 5, 4, 1]))\n",
    "print(normalized_listmle([100, 15, 5, 4, 1]))"
   ]
  },
  {
   "cell_type": "markdown",
   "metadata": {},
   "source": [
    "## Sensitivity to range of scores\n",
    "ListMLE is sensitive to the range of scores, whereas normalized listMLE retruns the same score for all correctly ranked lists of uniformly distanced scores of a given length"
   ]
  },
  {
   "cell_type": "code",
   "execution_count": 149,
   "metadata": {},
   "outputs": [
    {
     "name": "stdout",
     "output_type": "stream",
     "text": [
      "1.6129717464613917\n",
      "0.7658302279538801\n"
     ]
    }
   ],
   "source": [
    "print(listmle([5, 4, 3, 2, 1]))\n",
    "print(normalized_listmle([5, 4, 3, 2, 1]))"
   ]
  },
  {
   "cell_type": "code",
   "execution_count": 150,
   "metadata": {},
   "outputs": [
    {
     "name": "stdout",
     "output_type": "stream",
     "text": [
      "0.00018160178023052254\n",
      "0.7658302279538801\n"
     ]
    }
   ],
   "source": [
    "print(listmle([50, 40, 30, 20, 10]))\n",
    "print(normalized_listmle([50, 40, 30, 20, 10]))"
   ]
  },
  {
   "cell_type": "code",
   "execution_count": 151,
   "metadata": {},
   "outputs": [
    {
     "name": "stdout",
     "output_type": "stream",
     "text": [
      "1.6129717464613904\n",
      "0.7658302279538801\n"
     ]
    }
   ],
   "source": [
    "print(listmle([50, 49, 48, 47, 46]))\n",
    "print(normalized_listmle([50, 49, 48, 47, 46]))"
   ]
  },
  {
   "cell_type": "code",
   "execution_count": 152,
   "metadata": {},
   "outputs": [
    {
     "name": "stdout",
     "output_type": "stream",
     "text": [
      "0.0\n",
      "0.7658302279538801\n"
     ]
    }
   ],
   "source": [
    "print(listmle([500, 400, 300, 200, 100]))\n",
    "print(normalized_listmle([500, 400, 300, 200, 100]))"
   ]
  },
  {
   "cell_type": "markdown",
   "metadata": {},
   "source": [
    "Loss for normal listMLE decreases if the score of the first element increases, even if the rankings do not improve. This seems like it might lead to problems when used as a neural learning to rank loss funciton, as the network could minimize the loss function by maximizing the value of one item, even without improving the overall rankings."
   ]
  },
  {
   "cell_type": "code",
   "execution_count": 153,
   "metadata": {},
   "outputs": [
    {
     "name": "stdout",
     "output_type": "stream",
     "text": [
      "2.3752118015733004\n",
      "0.7893288548827587\n"
     ]
    }
   ],
   "source": [
    "print(listmle([50, 48, 49, 47, 46]))\n",
    "print(normalized_listmle([50, 48, 49, 47, 46]))"
   ]
  },
  {
   "cell_type": "code",
   "execution_count": 154,
   "metadata": {},
   "outputs": [
    {
     "name": "stdout",
     "output_type": "stream",
     "text": [
      "1.9233233430705994\n",
      "0.8286985830818072\n"
     ]
    }
   ],
   "source": [
    "print(listmle([60, 48, 49, 47, 46]))\n",
    "print(normalized_listmle([60, 48, 49, 47, 46]))"
   ]
  },
  {
   "cell_type": "code",
   "execution_count": 155,
   "metadata": {},
   "outputs": [
    {
     "name": "stdout",
     "output_type": "stream",
     "text": [
      "3.1931891467203215\n",
      "0.8070334361647374\n"
     ]
    }
   ],
   "source": [
    "print(listmle([48.5, 48, 49, 47, 46]))\n",
    "print(normalized_listmle([48.5, 48, 49, 47, 46]))"
   ]
  },
  {
   "cell_type": "markdown",
   "metadata": {},
   "source": [
    "## Sensitivity to length of list\n",
    "both listMLE and normalized listMLE are sensitive to the length of the lists"
   ]
  },
  {
   "cell_type": "code",
   "execution_count": 124,
   "metadata": {},
   "outputs": [
    {
     "name": "stdout",
     "output_type": "stream",
     "text": [
      "0.7208676519626027\n",
      "0.6442531347799542\n"
     ]
    }
   ],
   "source": [
    "print(listmle([3, 2, 1]))\n",
    "print(normalized_listmle([3, 2, 1]))"
   ]
  },
  {
   "cell_type": "code",
   "execution_count": 125,
   "metadata": {},
   "outputs": [
    {
     "name": "stdout",
     "output_type": "stream",
     "text": [
      "1.6129717464613917\n",
      "0.7658302279538801\n"
     ]
    }
   ],
   "source": [
    "print(listmle([5, 4, 3, 2, 1]))\n",
    "print(normalized_listmle([5, 4, 3, 2, 1]))"
   ]
  },
  {
   "cell_type": "code",
   "execution_count": 126,
   "metadata": {},
   "outputs": [
    {
     "name": "stdout",
     "output_type": "stream",
     "text": [
      "5.737123652372659\n",
      "0.8707988057569969\n"
     ]
    }
   ],
   "source": [
    "print(listmle([20, 19, 18, 17, 16, 15, 14, 13, 12, 11, 10, 9, 8, 7]))\n",
    "print(normalized_listmle([20, 19, 18, 17, 16, 15, 14, 13, 12, 11, 10, 9, 8, 7]))"
   ]
  },
  {
   "cell_type": "code",
   "execution_count": 127,
   "metadata": {},
   "outputs": [
    {
     "name": "stdout",
     "output_type": "stream",
     "text": [
      "1.7917594692280547\n",
      "1.0\n"
     ]
    }
   ],
   "source": [
    "print(listmle([1, 1, 1]))\n",
    "print(normalized_listmle([1, 1, 1]))"
   ]
  },
  {
   "cell_type": "code",
   "execution_count": 128,
   "metadata": {},
   "outputs": [
    {
     "name": "stdout",
     "output_type": "stream",
     "text": [
      "3.1780538303479453\n",
      "1.0\n"
     ]
    }
   ],
   "source": [
    "print(listmle([1, 1, 1, 1]))\n",
    "print(normalized_listmle([1, 1, 1, 1]))"
   ]
  },
  {
   "cell_type": "code",
   "execution_count": 129,
   "metadata": {},
   "outputs": [
    {
     "name": "stdout",
     "output_type": "stream",
     "text": [
      "0.8225933226855302\n",
      "0.7227566990100301\n"
     ]
    }
   ],
   "source": [
    "print(listmle(np.flip(np.linspace(1, 5, 4), axis=0)))\n",
    "print(normalized_listmle(np.flip(np.linspace(1, 5, 4), axis=0)))\n"
   ]
  },
  {
   "cell_type": "code",
   "execution_count": 130,
   "metadata": {},
   "outputs": [
    {
     "name": "stdout",
     "output_type": "stream",
     "text": [
      "1.6129717464613917\n",
      "0.7658302279538801\n"
     ]
    }
   ],
   "source": [
    "print(listmle(np.flip(np.linspace(1, 5, 5), axis=0)))\n",
    "print(normalized_listmle(np.flip(np.linspace(1, 5, 5), axis=0)))"
   ]
  },
  {
   "cell_type": "markdown",
   "metadata": {},
   "source": [
    "## Sanity Check: Functions decrease as list becomes closer to correct rank"
   ]
  },
  {
   "cell_type": "code",
   "execution_count": 131,
   "metadata": {},
   "outputs": [
    {
     "name": "stdout",
     "output_type": "stream",
     "text": [
      "2.3579645005040084\n",
      "0.7856224506411679\n"
     ]
    }
   ],
   "source": [
    "print(listmle([4, 5, 3, 2, 1]))\n",
    "print(normalized_listmle([4, 5, 3, 2, 1]))"
   ]
  },
  {
   "cell_type": "code",
   "execution_count": 132,
   "metadata": {},
   "outputs": [
    {
     "name": "stdout",
     "output_type": "stream",
     "text": [
      "1.999359629365888\n",
      "0.7661220816653138\n"
     ]
    }
   ],
   "source": [
    "print(listmle([4.5, 5, 3, 2, 1]))\n",
    "print(normalized_listmle([4.5, 5, 3, 2, 1]))"
   ]
  },
  {
   "cell_type": "markdown",
   "metadata": {},
   "source": [
    "## Sensitivity to ties"
   ]
  },
  {
   "cell_type": "code",
   "execution_count": 81,
   "metadata": {},
   "outputs": [
    {
     "name": "stdout",
     "output_type": "stream",
     "text": [
      "3.1780538303479458\n",
      "1.0\n"
     ]
    }
   ],
   "source": [
    "print(listmle([0., 0., 0., 0.]))\n",
    "print(normalized_listmle([0., 0., 0., 0.]))"
   ]
  },
  {
   "cell_type": "code",
   "execution_count": 82,
   "metadata": {},
   "outputs": [
    {
     "name": "stdout",
     "output_type": "stream",
     "text": [
      "3.1780538303479453\n",
      "1.0\n"
     ]
    }
   ],
   "source": [
    "\n",
    "print(listmle([1., 1., 1., 1.]))\n",
    "print(normalized_listmle([1., 1., 1., 1.]))"
   ]
  },
  {
   "cell_type": "code",
   "execution_count": 83,
   "metadata": {},
   "outputs": [
    {
     "name": "stdout",
     "output_type": "stream",
     "text": [
      "3.1780538303479458\n",
      "1.0\n"
     ]
    }
   ],
   "source": [
    "\n",
    "print(listmle([2., 2., 2., 2.]))\n",
    "print(normalized_listmle([2., 2., 2., 2.]))"
   ]
  },
  {
   "cell_type": "code",
   "execution_count": 84,
   "metadata": {},
   "outputs": [
    {
     "name": "stdout",
     "output_type": "stream",
     "text": [
      "2.2510007625701647\n",
      "0.7082953539285128\n"
     ]
    }
   ],
   "source": [
    "\n",
    "print(listmle([2., 2., 1., 1.]))\n",
    "print(normalized_listmle([2., 2., 1., 1.]))"
   ]
  },
  {
   "cell_type": "code",
   "execution_count": 85,
   "metadata": {},
   "outputs": [
    {
     "name": "stdout",
     "output_type": "stream",
     "text": [
      "1.1610573505237984\n",
      "0.7227566990100301\n"
     ]
    }
   ],
   "source": [
    "print(listmle([4., 3., 2., 1.]))\n",
    "print(normalized_listmle([4., 3., 2., 1.]))"
   ]
  },
  {
   "cell_type": "code",
   "execution_count": 86,
   "metadata": {},
   "outputs": [
    {
     "name": "stdout",
     "output_type": "stream",
     "text": [
      "1.7527671383847474\n",
      "0.7082953539285128\n"
     ]
    }
   ],
   "source": [
    "print(listmle([3., 3., 1., 1.]))\n",
    "print(normalized_listmle([3., 3., 1., 1.]))"
   ]
  },
  {
   "cell_type": "code",
   "execution_count": 87,
   "metadata": {},
   "outputs": [
    {
     "name": "stdout",
     "output_type": "stream",
     "text": [
      "0.3132616875182226\n",
      "0.45194108308304815\n"
     ]
    }
   ],
   "source": [
    "print(listmle([2., 1.]))\n",
    "print(normalized_listmle([2., 1.]))"
   ]
  },
  {
   "cell_type": "code",
   "execution_count": 90,
   "metadata": {},
   "outputs": [
    {
     "data": {
      "text/plain": [
       "0.8528236686889815"
      ]
     },
     "execution_count": 90,
     "metadata": {},
     "output_type": "execute_result"
    }
   ],
   "source": [
    "normalized_listmle([50000000000000,400,3,2,1])"
   ]
  },
  {
   "cell_type": "code",
   "execution_count": null,
   "metadata": {},
   "outputs": [],
   "source": []
  }
 ],
 "metadata": {
  "kernelspec": {
   "display_name": "dsmodels",
   "language": "python",
   "name": "dsmodels"
  },
  "language_info": {
   "codemirror_mode": {
    "name": "ipython",
    "version": 3
   },
   "file_extension": ".py",
   "mimetype": "text/x-python",
   "name": "python",
   "nbconvert_exporter": "python",
   "pygments_lexer": "ipython3",
   "version": "3.7.0"
  }
 },
 "nbformat": 4,
 "nbformat_minor": 2
}
