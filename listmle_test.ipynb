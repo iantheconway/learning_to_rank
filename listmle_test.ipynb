{
 "cells": [
  {
   "cell_type": "code",
   "execution_count": 16,
   "metadata": {},
   "outputs": [],
   "source": [
    "import numpy as np\n",
    "import math"
   ]
  },
  {
   "cell_type": "code",
   "execution_count": 10,
   "metadata": {},
   "outputs": [],
   "source": [
    "def listmle(x):\n",
    "    '''args:\n",
    "        x: a list of scores for feature vectors,\n",
    "        ordered by their ground truth rank\n",
    "    returns:\n",
    "        listMLE loss\n",
    "    '''\n",
    "    x_exp = np.exp(x)\n",
    "    x_exp = np.flip(x_exp, axis=0)\n",
    "    exp_cum_sum = np.cumsum(x_exp)\n",
    "    exp_cum_sum = np.flip(exp_cum_sum, axis=0)\n",
    "    return np.sum(np.log(exp_cum_sum) - x)\n",
    "\n",
    "def normalized_listmle(x):\n",
    "    '''args:\n",
    "        x: a list of scores for feature vectors,\n",
    "        ordered by their ground truth rank\n",
    "    returns:\n",
    "        normalized listMLE\n",
    "    '''\n",
    "    x = x -np.min(x)\n",
    "    if np.max(x) != 0:\n",
    "        x = x / np.max(x)\n",
    "    x = [sigmoid(n) for n in x]\n",
    "    x_exp = np.exp(x)\n",
    "    x_exp = np.flip(x_exp, axis=0)\n",
    "    exp_cum_sum = np.cumsum(x_exp)\n",
    "    exp_cum_sum = np.flip(exp_cum_sum, axis=0) \n",
    "    return np.sum(np.log(exp_cum_sum)  - x) / np.log(math.factorial(len(x)))\n",
    "\n",
    "def sigmoid(x):\n",
    "  return 1 / (1 + math.exp(-x))"
   ]
  },
  {
   "cell_type": "markdown",
   "metadata": {},
   "source": [
    "## Sensitivity to Score Range vs Sensitivy to correct ranking\n",
    "ListMLE rewards the difference between item 1 and item N heavily, where as normalized ListMLE is less sensitive"
   ]
  },
  {
   "cell_type": "code",
   "execution_count": 25,
   "metadata": {},
   "outputs": [
    {
     "name": "stdout",
     "output_type": "stream",
     "text": [
      "0.0001362008198633191\n",
      "0.9404697626258447\n",
      "1.6129717464613917\n",
      "0.9404697626258447\n"
     ]
    }
   ],
   "source": [
    "print(listmle([50, 40, 30, 20, 10]))\n",
    "print(normalized_listmle([50, 40, 30, 20, 10]))\n",
    "print(listmle([5, 4, 3, 2, 1]))\n",
    "print(normalized_listmle([5, 4, 3, 2, 1]))"
   ]
  },
  {
   "cell_type": "code",
   "execution_count": 14,
   "metadata": {},
   "outputs": [
    {
     "name": "stdout",
     "output_type": "stream",
     "text": [
      "2.1595703608692767\n",
      "0.9419838634525912\n"
     ]
    }
   ],
   "source": [
    "print(listmle([5, 6, 3, 2, 1]))\n",
    "print(normalized_listmle([5, 6, 3, 2, 1]))"
   ]
  },
  {
   "cell_type": "code",
   "execution_count": 15,
   "metadata": {},
   "outputs": [
    {
     "name": "stdout",
     "output_type": "stream",
     "text": [
      "2.8989168332898747\n",
      "0.9470181651420085\n"
     ]
    }
   ],
   "source": [
    "print(listmle([5, 7, 3, 2, 1]))\n",
    "print(normalized_listmle([5, 7, 3, 2, 1]))"
   ]
  },
  {
   "cell_type": "markdown",
   "metadata": {},
   "source": [
    "## Sensitivity to range of scores\n",
    "ListMLE is sensitive to the range of scores, whereas normalized listMLE retruns the same score for all correctly ranked lists of uniformly distanced scores of a given length"
   ]
  },
  {
   "cell_type": "code",
   "execution_count": 1494,
   "metadata": {},
   "outputs": [
    {
     "name": "stdout",
     "output_type": "stream",
     "text": [
      "1.6129717464613917\n",
      "0.7658302279538801\n"
     ]
    }
   ],
   "source": [
    "print(listmle([5, 4, 3, 2, 1]))\n",
    "print(normalized_listmle([5, 4, 3, 2, 1]))"
   ]
  },
  {
   "cell_type": "code",
   "execution_count": 1495,
   "metadata": {},
   "outputs": [
    {
     "name": "stdout",
     "output_type": "stream",
     "text": [
      "0.00018160178023052254\n",
      "0.7658302279538801\n"
     ]
    }
   ],
   "source": [
    "print(listmle([50, 40, 30, 20, 10]))\n",
    "print(normalized_listmle([50, 40, 30, 20, 10]))"
   ]
  },
  {
   "cell_type": "code",
   "execution_count": 1496,
   "metadata": {},
   "outputs": [
    {
     "name": "stdout",
     "output_type": "stream",
     "text": [
      "1.6129717464613904\n",
      "0.7658302279538801\n"
     ]
    }
   ],
   "source": [
    "print(listmle([50, 49, 48, 47, 46]))\n",
    "print(normalized_listmle([50, 49, 48, 47, 46]))"
   ]
  },
  {
   "cell_type": "code",
   "execution_count": 1497,
   "metadata": {},
   "outputs": [
    {
     "name": "stdout",
     "output_type": "stream",
     "text": [
      "1.1610832879586894\n",
      "0.8232429606901938\n"
     ]
    }
   ],
   "source": [
    "print(listmle([60, 49, 48, 47, 46]))\n",
    "print(normalized_listmle([60, 49, 48, 47, 46]))"
   ]
  },
  {
   "cell_type": "markdown",
   "metadata": {},
   "source": [
    "## \"Top Heavy\" vs \"Bottom Heavy\""
   ]
  },
  {
   "cell_type": "code",
   "execution_count": 1475,
   "metadata": {},
   "outputs": [
    {
     "name": "stdout",
     "output_type": "stream",
     "text": [
      "10.721130680216644\n",
      "1.1465386738111343\n"
     ]
    }
   ],
   "source": [
    "print(listmle([5, 4, 3, 2, 6]))\n",
    "print(normalized_listmle([5, 4, 3, 2, 6]))"
   ]
  },
  {
   "cell_type": "code",
   "execution_count": 1476,
   "metadata": {},
   "outputs": [
    {
     "name": "stdout",
     "output_type": "stream",
     "text": [
      "5.612971746461392\n",
      "0.9747078728099092\n"
     ]
    }
   ],
   "source": [
    "print(listmle([1, 5, 4, 3, 2]))\n",
    "print(normalized_listmle([1, 5, 4, 3, 2]))"
   ]
  },
  {
   "cell_type": "markdown",
   "metadata": {},
   "source": [
    "## Sensitivity to length of list\n",
    "both listMLE and normalized listMLE are sensitive to the length of the lists"
   ]
  },
  {
   "cell_type": "code",
   "execution_count": 1480,
   "metadata": {},
   "outputs": [
    {
     "name": "stdout",
     "output_type": "stream",
     "text": [
      "0.7208676519626027\n",
      "0.6442531347799542\n"
     ]
    }
   ],
   "source": [
    "print(listmle([3, 2, 1]))\n",
    "print(normalized_listmle([3, 2, 1]))"
   ]
  },
  {
   "cell_type": "code",
   "execution_count": 1481,
   "metadata": {},
   "outputs": [
    {
     "name": "stdout",
     "output_type": "stream",
     "text": [
      "1.6129717464613917\n",
      "0.7658302279538801\n"
     ]
    }
   ],
   "source": [
    "print(listmle([5, 4, 3, 2, 1]))\n",
    "print(normalized_listmle([5, 4, 3, 2, 1]))"
   ]
  },
  {
   "cell_type": "code",
   "execution_count": 1482,
   "metadata": {},
   "outputs": [
    {
     "name": "stdout",
     "output_type": "stream",
     "text": [
      "5.737123652372659\n",
      "0.8707988057569969\n"
     ]
    }
   ],
   "source": [
    "print(listmle([20, 19, 18, 17, 16, 15, 14, 13, 12, 11, 10, 9, 8, 7]))\n",
    "print(normalized_listmle([20, 19, 18, 17, 16, 15, 14, 13, 12, 11, 10, 9, 8, 7]))"
   ]
  },
  {
   "cell_type": "code",
   "execution_count": 1483,
   "metadata": {},
   "outputs": [
    {
     "name": "stdout",
     "output_type": "stream",
     "text": [
      "1.7917594692280547\n",
      "1.0\n"
     ]
    }
   ],
   "source": [
    "print(listmle([1, 1, 1]))\n",
    "print(normalized_listmle([1, 1, 1]))"
   ]
  },
  {
   "cell_type": "code",
   "execution_count": 1484,
   "metadata": {},
   "outputs": [
    {
     "name": "stdout",
     "output_type": "stream",
     "text": [
      "3.1780538303479453\n",
      "1.0\n"
     ]
    }
   ],
   "source": [
    "print(listmle([1, 1, 1, 1]))\n",
    "print(normalized_listmle([1, 1, 1, 1]))"
   ]
  },
  {
   "cell_type": "code",
   "execution_count": 1489,
   "metadata": {},
   "outputs": [
    {
     "name": "stdout",
     "output_type": "stream",
     "text": [
      "0.8225933226855302\n",
      "0.7227566990100301\n"
     ]
    }
   ],
   "source": [
    "print(listmle(np.flip(np.linspace(1, 5, 4), axis=0)))\n",
    "print(normalized_listmle(np.flip(np.linspace(1, 5, 4), axis=0)))\n"
   ]
  },
  {
   "cell_type": "code",
   "execution_count": 1490,
   "metadata": {},
   "outputs": [
    {
     "name": "stdout",
     "output_type": "stream",
     "text": [
      "1.6129717464613917\n",
      "0.7658302279538801\n"
     ]
    }
   ],
   "source": [
    "print(listmle(np.flip(np.linspace(1, 5, 5), axis=0)))\n",
    "print(normalized_listmle(np.flip(np.linspace(1, 5, 5), axis=0)))"
   ]
  },
  {
   "cell_type": "markdown",
   "metadata": {},
   "source": [
    "## Sanity Check: Functions decrease as list becomes closer to correct rank"
   ]
  },
  {
   "cell_type": "code",
   "execution_count": 1447,
   "metadata": {},
   "outputs": [
    {
     "name": "stdout",
     "output_type": "stream",
     "text": [
      "2.3579645005040084\n",
      "0.031343008294906556\n"
     ]
    }
   ],
   "source": [
    "print(listmle([4, 5, 3, 2, 1]))\n",
    "print(normalized_listmle([4, 5, 3, 2, 1]))"
   ]
  },
  {
   "cell_type": "code",
   "execution_count": 1448,
   "metadata": {},
   "outputs": [
    {
     "name": "stdout",
     "output_type": "stream",
     "text": [
      "1.999359629365888\n",
      "0.03056502616613068\n"
     ]
    }
   ],
   "source": [
    "print(listmle([4.5, 5, 3, 2, 1]))\n",
    "print(normalized_listmle([4.5, 5, 3, 2, 1]))"
   ]
  },
  {
   "cell_type": "markdown",
   "metadata": {},
   "source": [
    "## Sensitivity to ties"
   ]
  },
  {
   "cell_type": "code",
   "execution_count": 1206,
   "metadata": {},
   "outputs": [
    {
     "name": "stdout",
     "output_type": "stream",
     "text": [
      "-3.1780538303479453\n",
      "-0.7945134575869863\n"
     ]
    }
   ],
   "source": [
    "print(listmle([0., 0., 0., 0.]))\n",
    "print(normalized_listmle([0., 0., 0., 0.]))"
   ]
  },
  {
   "cell_type": "code",
   "execution_count": 1207,
   "metadata": {},
   "outputs": [
    {
     "name": "stdout",
     "output_type": "stream",
     "text": [
      "-3.1780538303479453\n",
      "-0.7945134575869863\n"
     ]
    }
   ],
   "source": [
    "\n",
    "print(listmle([1., 1., 1., 1.]))\n",
    "print(normalized_listmle([1., 1., 1., 1.]))"
   ]
  },
  {
   "cell_type": "code",
   "execution_count": 1208,
   "metadata": {},
   "outputs": [
    {
     "name": "stdout",
     "output_type": "stream",
     "text": [
      "-3.1780538303479458\n",
      "-0.7945134575869863\n"
     ]
    }
   ],
   "source": [
    "\n",
    "print(listmle([2., 2., 2., 2.]))\n",
    "print(normalized_listmle([2., 2., 2., 2.]))"
   ]
  },
  {
   "cell_type": "code",
   "execution_count": 1218,
   "metadata": {},
   "outputs": [
    {
     "name": "stdout",
     "output_type": "stream",
     "text": [
      "-4.561550852696365\n",
      "-1.140387713174091\n"
     ]
    }
   ],
   "source": [
    "\n",
    "print(listmle([2., 2., 1., 1.]))\n",
    "print(normalized_listmle([2., 2., 1., 1.]))"
   ]
  },
  {
   "cell_type": "code",
   "execution_count": 1219,
   "metadata": {},
   "outputs": [
    {
     "name": "stdout",
     "output_type": "stream",
     "text": [
      "-7.161057350523799\n",
      "-1.0742399239246159\n"
     ]
    }
   ],
   "source": [
    "print(listmle([4., 3., 2., 1.]))\n",
    "print(normalized_listmle([4., 3., 2., 1.]))"
   ]
  },
  {
   "cell_type": "code",
   "execution_count": 1220,
   "metadata": {},
   "outputs": [
    {
     "name": "stdout",
     "output_type": "stream",
     "text": [
      "-6.271846047842377\n",
      "-1.140387713174091\n"
     ]
    }
   ],
   "source": [
    "print(listmle([3., 3., 1., 1.]))\n",
    "print(normalized_listmle([3., 3., 1., 1.]))"
   ]
  },
  {
   "cell_type": "code",
   "execution_count": 1211,
   "metadata": {},
   "outputs": [
    {
     "name": "stdout",
     "output_type": "stream",
     "text": [
      "-1.3132616875182226\n",
      "-0.6566308437591114\n"
     ]
    }
   ],
   "source": [
    "print(listmle([2., 1.]))\n",
    "print(normalized_listmle([2., 1.]))"
   ]
  },
  {
   "cell_type": "code",
   "execution_count": null,
   "metadata": {},
   "outputs": [],
   "source": []
  }
 ],
 "metadata": {
  "kernelspec": {
   "display_name": "Python 3",
   "language": "python",
   "name": "python3"
  },
  "language_info": {
   "codemirror_mode": {
    "name": "ipython",
    "version": 3
   },
   "file_extension": ".py",
   "mimetype": "text/x-python",
   "name": "python",
   "nbconvert_exporter": "python",
   "pygments_lexer": "ipython3",
   "version": "3.7.4"
  }
 },
 "nbformat": 4,
 "nbformat_minor": 2
}
