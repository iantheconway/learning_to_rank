{
 "cells": [
  {
   "cell_type": "markdown",
   "metadata": {},
   "source": [
    "# Tensorflow Ranking on MSLR Web 10k\n",
    "\n",
    "MSLR Web 10 is an open dataset released by Microsoft for Learning to Rank.\n",
    "\n",
    "https://www.microsoft.com/en-us/research/project/mslr/\n",
    "\n",
    "This notebook contains experiments on this dataset using the Tensorflow Ranking library"
   ]
  },
  {
   "cell_type": "code",
   "execution_count": null,
   "metadata": {},
   "outputs": [],
   "source": [
    "!git clone https://github.com/tensorflow/ranking"
   ]
  },
  {
   "cell_type": "code",
   "execution_count": null,
   "metadata": {},
   "outputs": [],
   "source": [
    "!wget https://1drv.ms/u/s!AtsMfWUz5l8nbOIoJ6Ks0bEMp78"
   ]
  }
 ],
 "metadata": {
  "kernelspec": {
   "display_name": "dsmodels",
   "language": "python",
   "name": "dsmodels"
  },
  "language_info": {
   "codemirror_mode": {
    "name": "ipython",
    "version": 3
   },
   "file_extension": ".py",
   "mimetype": "text/x-python",
   "name": "python",
   "nbconvert_exporter": "python",
   "pygments_lexer": "ipython3",
   "version": "3.7.0"
  }
 },
 "nbformat": 4,
 "nbformat_minor": 4
}
