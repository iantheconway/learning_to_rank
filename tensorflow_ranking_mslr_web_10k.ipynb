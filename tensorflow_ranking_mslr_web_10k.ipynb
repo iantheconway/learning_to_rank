{
 "cells": [
  {
   "cell_type": "markdown",
   "metadata": {},
   "source": [
    "# Tensorflow Ranking on MSLR Web 10k\n",
    "\n",
    "MSLR Web 10 is an open dataset released by Microsoft for Learning to Rank.\n",
    "\n",
    "https://www.microsoft.com/en-us/research/project/mslr/\n",
    "\n",
    "This notebook contains experiments on this dataset using the Tensorflow Ranking library"
   ]
  },
  {
   "cell_type": "markdown",
   "source": [
    "### Mount your Google Drive\n",
    "Mount Google Drive to load files"
   ],
   "metadata": {
    "collapsed": false,
    "pycharm": {
     "name": "#%% md\n"
    }
   }
  },
  {
   "cell_type": "code",
   "execution_count": null,
   "outputs": [],
   "source": [
    "from google.colab import drive\n",
    "drive.mount('/content/drive')"
   ],
   "metadata": {
    "collapsed": false,
    "pycharm": {
     "name": "#%%\n"
    }
   }
  },
  {
   "cell_type": "code",
   "execution_count": null,
   "outputs": [],
   "source": [
    "!unzip /content/drive/My\\ Drive/MSLR-WEB10K.zip -d /content/MSLR"
   ],
   "metadata": {
    "collapsed": false,
    "pycharm": {
     "name": "#%%\n"
    }
   }
  },
  {
   "cell_type": "markdown",
   "source": [
    "### Install Libraries"
   ],
   "metadata": {
    "collapsed": false,
    "pycharm": {
     "name": "#%% md\n"
    }
   }
  },
  {
   "cell_type": "code",
   "execution_count": null,
   "metadata": {},
   "outputs": [],
   "source": [
    "!git clone https://github.com/iantheconway/learning_to_rank"
   ]
  },
  {
   "cell_type": "code",
   "execution_count": null,
   "metadata": {},
   "outputs": [],
   "source": [
    "!pip install tensorflow_ranking\n",
    "!pip install wandb"
   ]
  },
  {
   "cell_type": "code",
   "execution_count": null,
   "metadata": {},
   "outputs": [],
   "source": [
    "!OUTPUT_DIR=/tmp/output && \\\n",
    "TRAIN=/content/MSLR/Fold1/train.txt && \\\n",
    "VALI=/content/MSLR/Fold1/vali.txt && \\\n",
    "TEST=/content/MSLR/Fold1/test.txt && \\\n",
    "rm -rf $OUTPUT_DIR && \\\n",
    "python learning_to_rank/tensorflow_ranking_mslr.py \\\n",
    "--train_path=$TRAIN \\\n",
    "--vali_path=$VALI \\\n",
    "--test_path=$TEST \\\n",
    "--num_train_steps= 1000\\\n",
    "--output_dir=$OUTPUT_DIR \\\n",
    "--num_features=136\n"
   ]
  },
  {
   "cell_type": "code",
   "execution_count": null,
   "outputs": [],
   "source": [],
   "metadata": {
    "collapsed": false,
    "pycharm": {
     "name": "#%%\n"
    }
   }
  }
 ],
 "metadata": {
  "kernelspec": {
   "display_name": "dsmodels",
   "language": "python",
   "name": "dsmodels"
  },
  "language_info": {
   "codemirror_mode": {
    "name": "ipython",
    "version": 3
   },
   "file_extension": ".py",
   "mimetype": "text/x-python",
   "name": "python",
   "nbconvert_exporter": "python",
   "pygments_lexer": "ipython3",
   "version": "3.7.0"
  },
  "pycharm": {
   "stem_cell": {
    "cell_type": "raw",
    "source": [],
    "metadata": {
     "collapsed": false
    }
   }
  }
 },
 "nbformat": 4,
 "nbformat_minor": 4
}