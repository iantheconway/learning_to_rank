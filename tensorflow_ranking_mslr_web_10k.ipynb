{
 "cells": [
  {
   "cell_type": "markdown",
   "metadata": {},
   "source": [
    "# Tensorflow Ranking on MSLR Web 10k\n",
    "\n",
    "MSLR Web 10 is an open dataset released by Microsoft for Learning to Rank.\n",
    "\n",
    "https://www.microsoft.com/en-us/research/project/mslr/\n",
    "\n",
    "This notebook contains experiments on this dataset using the Tensorflow Ranking library\n",
    "It is designed to be run on Google Colab"
   ]
  },
  {
   "cell_type": "markdown",
   "source": [
    "### Mount your Google Drive\n",
    "Mount Google Drive to load files. This assumes that the MSLR-WEB10K.zip file which can be downloaded here in the above link exists in your google drive."
   ],
   "metadata": {
    "collapsed": false,
    "pycharm": {
     "name": "#%% md\n"
    }
   }
  },
  {
   "cell_type": "code",
   "execution_count": null,
   "outputs": [],
   "source": [
    "from google.colab import drive\n",
    "drive.mount('/content/drive')"
   ],
   "metadata": {
    "collapsed": false,
    "pycharm": {
     "name": "#%%\n"
    }
   }
  },
  {
   "cell_type": "code",
   "execution_count": null,
   "outputs": [],
   "source": [
    "!unzip /content/drive/My\\ Drive/MSLR-WEB10K.zip -d /content/MSLR"
   ],
   "metadata": {
    "collapsed": false,
    "pycharm": {
     "name": "#%%\n"
    }
   }
  },
  {
   "cell_type": "markdown",
   "source": [
    "### Install Libraries"
   ],
   "metadata": {
    "collapsed": false,
    "pycharm": {
     "name": "#%% md\n"
    }
   }
  },
  {
   "cell_type": "code",
   "execution_count": null,
   "metadata": {},
   "outputs": [],
   "source": [
    "!git clone https://github.com/iantheconway/learning_to_rank"
   ]
  },
  {
   "cell_type": "code",
   "execution_count": null,
   "metadata": {},
   "outputs": [],
   "source": [
    "!pip install tensorflow_ranking\n",
    "!pip install wandb"
   ]
  },
  {
   "cell_type": "code",
   "execution_count": null,
   "metadata": {},
   "outputs": [],
   "source": [
    "!OUTPUT_DIR=/tmp/output && \\\n",
    "TRAIN=/content/MSLR/Fold1/train.txt && \\\n",
    "VALI=/content/MSLR/Fold1/vali.txt && \\\n",
    "TEST=/content/MSLR/Fold1/test.txt && \\\n",
    "rm -rf $OUTPUT_DIR && \\\n",
    "python learning_to_rank/tensorflow_ranking_mslr.py \\\n",
    "--train_path=$TRAIN \\\n",
    "--vali_path=$VALI \\\n",
    "--test_path=$TEST \\\n",
    "--num_train_steps= 1000\\\n",
    "--output_dir=$OUTPUT_DIR \\\n",
    "--num_features=136\n"
   ]
  },
  {
   "cell_type": "code",
   "execution_count": null,
   "outputs": [],
   "source": [
    "from learning_to_rank.tensorflow_ranking_mslr import train_and_eval\n",
    "from absl.testing import flagsaver\n",
    "import wandb\n",
    "from absl import flags\n",
    "\n",
    "FLAGS = flags.FLAGS\n",
    "# This avoids error \n",
    "FLAGS(['tensorflow_ranking'])\n",
    "\n",
    "with flagsaver.flagsaver(\n",
    "    train_path='/content/MSLR/Fold1/train.txt',\n",
    "    vali_path='/content/MSLR/Fold1/vali.txt',\n",
    "    test_path='/content/MSLR/Fold1/test.txt',\n",
    "    output_dir='/tmp/output',\n",
    "    loss=\"list_mle_loss\",\n",
    "    secondary_loss=None,\n",
    "    num_train_steps=100,\n",
    "    list_size=10,\n",
    "    group_size=2,\n",
    "    num_features=136):\n",
    "\n",
    "    wandb.init(config=FLAGS, sync_tensorboard=True, entity='iantheconway', project='learning_to_rank')\n",
    "    train_and_eval()\n",
    "    \n",
    "with flagsaver.flagsaver(\n",
    "    train_path='/content/MSLR/Fold1/train.txt',\n",
    "    vali_path='/content/MSLR/Fold1/vali.txt',\n",
    "    test_path='/content/MSLR/Fold1/test.txt',\n",
    "    output_dir='/tmp/output',\n",
    "    loss=\"list_mle_loss\",\n",
    "    secondary_loss='mean_squared_loss',\n",
    "    secondary_loss_weight=.1,\n",
    "    num_train_steps=100,\n",
    "    list_size=10,\n",
    "    group_size=2,\n",
    "    num_features=136):\n",
    "\n",
    "    wandb.init(config=FLAGS, sync_tensorboard=True, entity='iantheconway', project='learning_to_rank')\n",
    "    train_and_eval()"
   ],
   "metadata": {
    "collapsed": false,
    "pycharm": {
     "name": "#%%\n"
    }
   }
  }
 ],
 "metadata": {
  "kernelspec": {
   "display_name": "dsmodels",
   "language": "python",
   "name": "dsmodels"
  },
  "language_info": {
   "codemirror_mode": {
    "name": "ipython",
    "version": 3
   },
   "file_extension": ".py",
   "mimetype": "text/x-python",
   "name": "python",
   "nbconvert_exporter": "python",
   "pygments_lexer": "ipython3",
   "version": "3.7.0"
  },
  "pycharm": {
   "stem_cell": {
    "cell_type": "raw",
    "source": [],
    "metadata": {
     "collapsed": false
    }
   }
  }
 },
 "nbformat": 4,
 "nbformat_minor": 4
}